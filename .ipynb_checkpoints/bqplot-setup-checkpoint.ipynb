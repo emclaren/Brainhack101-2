{
 "cells": [
  {
   "cell_type": "code",
   "execution_count": 4,
   "metadata": {},
   "outputs": [
    {
     "data": {
      "application/vnd.jupyter.widget-view+json": {
       "model_id": "8a7a30122d00474588a1d8447374b91a",
       "version_major": 2,
       "version_minor": 0
      },
      "text/plain": [
       "A Jupyter Widget"
      ]
     },
     "metadata": {},
     "output_type": "display_data"
    }
   ],
   "source": [
    "import numpy as np\n",
    "import bqplot.pyplot as plt\n",
    "\n",
    "size = 100\n",
    "\n",
    "plt.figure(title='Scatter plot with colors')\n",
    "plt.scatter(np.random.randn(size), np.random.randn(size), color=np.random.randn(size))\n",
    "plt.show()\n"
   ]
  }
 ],
 "metadata": {
  "kernelspec": {
   "display_name": "Python 3",
   "language": "python",
   "name": "python3"
  },
  "language_info": {
   "codemirror_mode": {
    "name": "ipython",
    "version": 3
   },
   "file_extension": ".py",
   "mimetype": "text/x-python",
   "name": "python",
   "nbconvert_exporter": "python",
   "pygments_lexer": "ipython3",
   "version": "3.6.0"
  },
  "widgets": {
   "application/vnd.jupyter.widget-state+json": {
    "state": {
     "042fa982967e40ee946473913242d55b": {
      "model_module": "bqplot",
      "model_module_version": "^0.2.3",
      "model_name": "ToolbarModel",
      "state": {
       "figure": "IPY_MODEL_1237dbe30ac042a58c438a79be8ab884",
       "layout": "IPY_MODEL_5ace469a5d284692b25f7f7e6d1aeb3c"
      }
     },
     "0adb698f1d024c2bb3a1d9212e68909f": {
      "model_module": "@jupyter-widgets/base",
      "model_module_version": "1.0.0",
      "model_name": "LayoutModel",
      "state": {
       "min_width": "125px"
      }
     },
     "0bd92239d266454d9323e9bdf4bb637e": {
      "model_module": "@jupyter-widgets/controls",
      "model_module_version": "1.0.0",
      "model_name": "VBoxModel",
      "state": {
       "children": [
        "IPY_MODEL_1237dbe30ac042a58c438a79be8ab884",
        "IPY_MODEL_042fa982967e40ee946473913242d55b"
       ],
       "layout": "IPY_MODEL_32de427b451a4356b33dd791ad2aec6b"
      }
     },
     "0be8ce40ab294b4f8be0372eea2ad613": {
      "model_module": "@jupyter-widgets/controls",
      "model_module_version": "1.0.0",
      "model_name": "VBoxModel",
      "state": {
       "children": [
        "IPY_MODEL_38d347861a234491aff964cfabbde3d6",
        "IPY_MODEL_c895f933282f49fa844ed26d1410b6f1"
       ],
       "layout": "IPY_MODEL_11c96f17b285491c9d0a1d5fe345267d"
      }
     },
     "11c96f17b285491c9d0a1d5fe345267d": {
      "model_module": "@jupyter-widgets/base",
      "model_module_version": "1.0.0",
      "model_name": "LayoutModel",
      "state": {}
     },
     "1237dbe30ac042a58c438a79be8ab884": {
      "model_module": "bqplot",
      "model_module_version": "^0.2.3",
      "model_name": "FigureModel",
      "state": {
       "_dom_classes": [],
       "axes": [
        "IPY_MODEL_21e1900baf4841718fb3c31ace876a61",
        "IPY_MODEL_ff860b25a624457e85f9f1f8d117328a",
        "IPY_MODEL_2e70cd93cc6e4b59b231530430cf0127"
       ],
       "layout": "IPY_MODEL_a6ce1863285b445fbdd8613fa0acdb6f",
       "marks": [
        "IPY_MODEL_d99eb8daed05451ca4780191c199c5a2"
       ],
       "max_aspect_ratio": 6,
       "scale_x": "IPY_MODEL_f15a5cca31594f4495e797053787804e",
       "scale_y": "IPY_MODEL_9396d7c38f984ed7ad686b539f37f486",
       "title": "Scatter plot with colors"
      }
     },
     "166cc7fad30c44e7ab0bd06ca4962bd9": {
      "model_module": "bqplot",
      "model_module_version": "^0.2.3",
      "model_name": "ColorScaleModel",
      "state": {
       "_model_name": "ColorScaleModel",
       "_view_name": "ColorScale",
       "colors": [],
       "mid": null,
       "scale_type": "linear",
       "scheme": "RdYlGn"
      }
     },
     "174e8929a2704c6b84fda461a7d4262e": {
      "model_module": "@jupyter-widgets/base",
      "model_module_version": "1.0.0",
      "model_name": "LayoutModel",
      "state": {}
     },
     "1a30563358804690817c2e9aa7fa065c": {
      "model_module": "bqplot",
      "model_module_version": "^0.2.3",
      "model_name": "AxisModel",
      "state": {
       "scale": "IPY_MODEL_d28a69c97a914613a5fe39c74de80b4e",
       "side": "bottom",
       "tick_values": {
        "type": null,
        "values": null
       }
      }
     },
     "1a7053fe5d824e7d81fc283a4ad53c6f": {
      "model_module": "@jupyter-widgets/base",
      "model_module_version": "1.0.0",
      "model_name": "LayoutModel",
      "state": {
       "min_width": "125px"
      }
     },
     "1ad3a0c3ca064f5abf895df18588e3da": {
      "model_module": "bqplot",
      "model_module_version": "^0.2.3",
      "model_name": "LinearScaleModel",
      "state": {
       "allow_padding": false,
       "max": 1,
       "min": 0,
       "stabilized": false
      }
     },
     "21e1900baf4841718fb3c31ace876a61": {
      "model_module": "bqplot",
      "model_module_version": "^0.2.3",
      "model_name": "ColorAxisModel",
      "state": {
       "scale": "IPY_MODEL_6ff9eab0c9c24f5d8c963bf25f797a62",
       "side": "bottom",
       "tick_values": {
        "type": null,
        "values": null
       }
      }
     },
     "297c3727a2a34a31a92376010507ab19": {
      "model_module": "bqplot",
      "model_module_version": "^0.2.3",
      "model_name": "AxisModel",
      "state": {
       "orientation": "vertical",
       "scale": "IPY_MODEL_2f57c3f24c8c4da0911d93747be86897",
       "side": "left",
       "tick_values": {
        "type": null,
        "values": null
       }
      }
     },
     "29da9044e2634c62beb80dbf7e5f6514": {
      "model_module": "@jupyter-widgets/controls",
      "model_module_version": "1.0.0",
      "model_name": "VBoxModel",
      "state": {
       "children": [
        "IPY_MODEL_44a633c92541418b8cf400fffc964fc5",
        "IPY_MODEL_6854236f6e214f21aa1580dfc6a623cd"
       ],
       "layout": "IPY_MODEL_174e8929a2704c6b84fda461a7d4262e"
      }
     },
     "2a0dadb8b6554273b454e1a31c74989a": {
      "model_module": "bqplot",
      "model_module_version": "^0.2.3",
      "model_name": "AxisModel",
      "state": {
       "scale": "IPY_MODEL_6ed16a0317354b6a9052448206054a8e",
       "side": "bottom",
       "tick_values": {
        "type": null,
        "values": null
       }
      }
     },
     "2e70cd93cc6e4b59b231530430cf0127": {
      "model_module": "bqplot",
      "model_module_version": "^0.2.3",
      "model_name": "AxisModel",
      "state": {
       "orientation": "vertical",
       "scale": "IPY_MODEL_b7315bd680f444fd99a0492812f23348",
       "side": "left",
       "tick_values": {
        "type": null,
        "values": null
       }
      }
     },
     "2f57c3f24c8c4da0911d93747be86897": {
      "model_module": "bqplot",
      "model_module_version": "^0.2.3",
      "model_name": "LinearScaleModel",
      "state": {
       "stabilized": false
      }
     },
     "322f57e3257b4e78a1a23ee74b2e7e5f": {
      "model_module": "bqplot",
      "model_module_version": "^0.2.3",
      "model_name": "ColorScaleModel",
      "state": {
       "_model_name": "ColorScaleModel",
       "_view_name": "ColorScale",
       "colors": [],
       "mid": null,
       "scale_type": "linear",
       "scheme": "RdYlGn"
      }
     },
     "32de427b451a4356b33dd791ad2aec6b": {
      "model_module": "@jupyter-widgets/base",
      "model_module_version": "1.0.0",
      "model_name": "LayoutModel",
      "state": {}
     },
     "38d347861a234491aff964cfabbde3d6": {
      "model_module": "bqplot",
      "model_module_version": "^0.2.3",
      "model_name": "FigureModel",
      "state": {
       "_dom_classes": [],
       "axes": [
        "IPY_MODEL_5c119569212646b98fa764c75433b81c",
        "IPY_MODEL_a0d87433374e4b35a99a40101f34a9cc",
        "IPY_MODEL_297c3727a2a34a31a92376010507ab19"
       ],
       "layout": "IPY_MODEL_0adb698f1d024c2bb3a1d9212e68909f",
       "marks": [
        "IPY_MODEL_6e2a4a06bc5a49699578130ecb8c6108"
       ],
       "max_aspect_ratio": 6,
       "scale_x": "IPY_MODEL_739a567ca28b4c32849c4f2eaa937ff2",
       "scale_y": "IPY_MODEL_57c92698a4144f4f9a93906fc748531e",
       "title": "Scatter plot with colors"
      }
     },
     "44a633c92541418b8cf400fffc964fc5": {
      "model_module": "bqplot",
      "model_module_version": "^0.2.3",
      "model_name": "FigureModel",
      "state": {
       "_dom_classes": [],
       "axes": [
        "IPY_MODEL_75c75d0f04b5408a94525ed51f3c2c9b",
        "IPY_MODEL_1a30563358804690817c2e9aa7fa065c",
        "IPY_MODEL_a0d77e33b1d446ba83a06472449b130f"
       ],
       "layout": "IPY_MODEL_1a7053fe5d824e7d81fc283a4ad53c6f",
       "marks": [
        "IPY_MODEL_ed9df53212b6404a9133c2a6f6831fd0"
       ],
       "max_aspect_ratio": 6,
       "scale_x": "IPY_MODEL_75720d3927af4337a7f2429d8184aea9",
       "scale_y": "IPY_MODEL_4dc994ada1934b65af4c9bae2139e1dc",
       "title": "Scatter plot with colors"
      }
     },
     "4dc994ada1934b65af4c9bae2139e1dc": {
      "model_module": "bqplot",
      "model_module_version": "^0.2.3",
      "model_name": "LinearScaleModel",
      "state": {
       "allow_padding": false,
       "max": 1,
       "min": 0,
       "stabilized": false
      }
     },
     "55afb91a199c41f6852ed26bdf02204b": {
      "model_module": "bqplot",
      "model_module_version": "^0.2.3",
      "model_name": "ToolbarModel",
      "state": {
       "figure": "IPY_MODEL_68d1ac3d61254338b947f4411fe6a041",
       "layout": "IPY_MODEL_f4c3bcb3fa724609af7355aca5c9b239"
      }
     },
     "57c92698a4144f4f9a93906fc748531e": {
      "model_module": "bqplot",
      "model_module_version": "^0.2.3",
      "model_name": "LinearScaleModel",
      "state": {
       "allow_padding": false,
       "max": 1,
       "min": 0,
       "stabilized": false
      }
     },
     "5ace469a5d284692b25f7f7e6d1aeb3c": {
      "model_module": "@jupyter-widgets/base",
      "model_module_version": "1.0.0",
      "model_name": "LayoutModel",
      "state": {}
     },
     "5c119569212646b98fa764c75433b81c": {
      "model_module": "bqplot",
      "model_module_version": "^0.2.3",
      "model_name": "ColorAxisModel",
      "state": {
       "scale": "IPY_MODEL_166cc7fad30c44e7ab0bd06ca4962bd9",
       "side": "bottom",
       "tick_values": {
        "type": null,
        "values": null
       }
      }
     },
     "5e7059c7f6c64dd4a6c6b4af908161d7": {
      "model_module": "bqplot",
      "model_module_version": "^0.2.3",
      "model_name": "ColorAxisModel",
      "state": {
       "scale": "IPY_MODEL_322f57e3257b4e78a1a23ee74b2e7e5f",
       "side": "bottom",
       "tick_values": {
        "type": null,
        "values": null
       }
      }
     },
     "6854236f6e214f21aa1580dfc6a623cd": {
      "model_module": "bqplot",
      "model_module_version": "^0.2.3",
      "model_name": "ToolbarModel",
      "state": {
       "figure": "IPY_MODEL_44a633c92541418b8cf400fffc964fc5",
       "layout": "IPY_MODEL_7ead20c1817a4d7d8aa55b3c18f3f801"
      }
     },
     "68d1ac3d61254338b947f4411fe6a041": {
      "model_module": "bqplot",
      "model_module_version": "^0.2.3",
      "model_name": "FigureModel",
      "state": {
       "_dom_classes": [],
       "axes": [
        "IPY_MODEL_5e7059c7f6c64dd4a6c6b4af908161d7",
        "IPY_MODEL_2a0dadb8b6554273b454e1a31c74989a",
        "IPY_MODEL_f2befb9b433b47419dee626063ce6aa4"
       ],
       "layout": "IPY_MODEL_aa9c7d1b80cc401c89867c2989795f65",
       "marks": [
        "IPY_MODEL_824ddcb959e245298b46ed6695510834"
       ],
       "max_aspect_ratio": 6,
       "scale_x": "IPY_MODEL_8abe3f23263644959a6a6bf62ca741b2",
       "scale_y": "IPY_MODEL_1ad3a0c3ca064f5abf895df18588e3da",
       "title": "Scatter plot with colors"
      }
     },
     "6b2bbc5e4cec46839f55b0c516126f07": {
      "model_module": "bqplot",
      "model_module_version": "^0.2.3",
      "model_name": "LinearScaleModel",
      "state": {
       "stabilized": false
      }
     },
     "6e2a4a06bc5a49699578130ecb8c6108": {
      "model_module": "bqplot",
      "model_module_version": "^0.2.3",
      "model_name": "ScatterModel",
      "state": {
       "_model_module": "bqplot",
       "_model_module_version": "^0.2.3",
       "_view_count": null,
       "_view_module": "bqplot",
       "_view_module_version": "^0.2.3",
       "apply_clip": true,
       "color": {
        "type": "float",
        "values": [
         -2.592165766769332,
         -0.7277052519679886,
         1.1538346837894269,
         0.044840146340735895,
         1.4634748978332872,
         -0.3669570942027704,
         -1.4110079819668098,
         2.0400866901670454,
         0.782430683044736,
         -0.9275568402660265,
         -1.1036390244796113,
         0.28726563996535825,
         0.959869831410171,
         1.7851222443337413,
         -1.5092734464601127,
         0.6055603713543782,
         0.4280611264796903,
         0.39579159685562837,
         -0.8294924923402113,
         0.43312598955732734,
         1.0643874151358115,
         0.9298759857157941,
         -0.7169394723464056,
         1.2208084955863208,
         -0.6423394717973983,
         1.098124636093407,
         0.33566554474459964,
         -0.38209527154515377,
         -0.6594039862546938,
         0.297706822292796,
         1.1700814354961901,
         -0.948801770565512,
         -0.4654261646773145,
         -2.7350124264991713,
         0.8336026763501605,
         1.6426955955364575,
         -0.39850668273247636,
         -0.7220136988402532,
         2.0048371944782133,
         -0.8471151175392126,
         0.7555061599053597,
         0.9368070938350563,
         2.284289350451864,
         -2.1242438340073306,
         0.0604467493398185,
         -0.34871823084669035,
         -1.6528446018165186,
         -0.39732675180327237,
         -0.21135780141565788,
         0.4866085261116468,
         1.7611032115123249,
         -0.13579950083195663,
         0.5903248214062964,
         -1.062420688866713,
         0.5647645660087776,
         1.2117544560033744,
         0.9601443792886225,
         -1.263328040633928,
         0.5774536144451374,
         0.4371360113679754,
         -1.1643930243643779,
         0.30805501370800914,
         1.1943476738579877,
         0.5401895393571301,
         1.0139020240269554,
         0.09858598287675231,
         -0.56464016370324,
         0.002401560166697785,
         1.5155753630329702,
         0.220069284105487,
         1.099634150449355,
         -0.06748630580792711,
         1.1548739792899423,
         2.4145726951538853,
         -1.4216078041720837,
         -2.239198262809408,
         -1.5173922955924837,
         -0.5654478827583829,
         0.5977674110134438,
         -0.17572802798225565,
         -0.24170275076092018,
         -0.3323681569933565,
         0.24232281497295335,
         0.6509828102799475,
         -0.5340890719034189,
         -0.42392586256560527,
         0.018496222327499836,
         -0.18968676600377934,
         -1.1878719649770706,
         1.1971817096198245,
         0.7922974417121387,
         -1.4911892447708863,
         0.3353535533474059,
         -1.3508572955211124,
         0.9093879821506543,
         -1.591302296125624,
         0.18429569830629192,
         1.7343290626483527,
         -0.5980935259524015,
         -0.6456639604063096
        ]
       },
       "colors": [
        "DeepSkyBlue"
       ],
       "display_legend": false,
       "enable_hover": true,
       "hovered_style": {},
       "interactions": {
        "hover": "tooltip"
       },
       "labels": [],
       "names": {
        "type": null,
        "values": null
       },
       "opacity": {
        "type": null,
        "values": null
       },
       "preserve_domain": {},
       "rotation": {
        "type": null,
        "values": null
       },
       "scales": {
        "color": "IPY_MODEL_166cc7fad30c44e7ab0bd06ca4962bd9",
        "x": "IPY_MODEL_e46eaa9f26ee4b508c7265cf001bc578",
        "y": "IPY_MODEL_2f57c3f24c8c4da0911d93747be86897"
       },
       "scales_metadata": {
        "color": {
         "dimension": "color"
        },
        "opacity": {
         "dimension": "opacity"
        },
        "size": {
         "dimension": "size"
        },
        "x": {
         "dimension": "x",
         "orientation": "horizontal"
        },
        "y": {
         "dimension": "y",
         "orientation": "vertical"
        }
       },
       "selected": [],
       "selected_style": {},
       "size": {
        "type": null,
        "values": null
       },
       "skew": {
        "type": null,
        "values": null
       },
       "tooltip": null,
       "tooltip_location": "mouse",
       "tooltip_style": {
        "opacity": 0.9
       },
       "unhovered_style": {},
       "unselected_style": {},
       "visible": true,
       "x": {
        "type": "float",
        "values": [
         -0.0034807189255273542,
         -0.2706004832475412,
         1.0730679696929495,
         -0.03629255772864581,
         1.1882345146818296,
         0.8912688068355593,
         -1.3569536596151441,
         0.281219180934915,
         0.3249670850506644,
         -1.3396302865732903,
         -1.743036684289929,
         1.7613350055211663,
         -0.7544085300861341,
         0.7159257887129109,
         0.6881986919814755,
         0.35057086013644917,
         0.5564014547221074,
         -0.14613521939555607,
         -2.243736941945479,
         -1.5635089736096732,
         0.1744193997471979,
         -0.9189679551743714,
         0.8502374904452531,
         0.23269371495143026,
         -0.617623982187783,
         -0.0028816895142702785,
         -0.20618344374362577,
         -0.6405918415566247,
         -0.31666307028269924,
         -0.3697966350332465,
         -0.5779203045513541,
         1.28989061483398,
         0.358829962976649,
         -1.9636693977865043,
         -2.0994524111202386,
         -0.9158882322750502,
         -0.5400234396297016,
         -0.5875504531568166,
         0.22251639553315564,
         -0.8816709028145471,
         -0.1911536951329699,
         -0.6161794234843244,
         1.067016009291914,
         -0.7599680056823267,
         0.45925766611460356,
         1.820688726709371,
         -0.41461752009621206,
         0.3780737511142717,
         0.715877753531973,
         0.46504457748851624,
         1.7127376171459012,
         2.5593792435860805,
         -0.1602592026143203,
         -0.29881792591543577,
         0.1050775761572326,
         0.4888152690844122,
         0.42872342637033034,
         0.6803086684776555,
         -0.4893202137270433,
         0.16229299561878008,
         -0.7137560959099162,
         -0.8707686198755787,
         -0.8797730291041523,
         -1.4147234409725116,
         1.7207491305034295,
         -0.7600678114648789,
         0.3134936128330342,
         -0.4875488800934733,
         0.22052854541997408,
         0.010506859273107676,
         -0.6732675755348662,
         0.29393960097137944,
         0.1544921000347932,
         1.065095860219565,
         -3.3788957695516126,
         2.318728583478989,
         -0.8149548003744529,
         0.7856153883126192,
         -0.8460338750467278,
         0.21516522749587647,
         -0.5649264346148636,
         0.3711506455785002,
         0.6201618621750956,
         -0.20750059066693788,
         0.9248348980504625,
         -0.5867450256198258,
         -0.5355726565082287,
         -1.9024610620722433,
         -0.390812807317412,
         -0.446273652040156,
         0.28828373510085814,
         0.7200476580676375,
         -0.5598081074437994,
         -1.0185647965389009,
         0.6253321585993451,
         -0.8233627491561871,
         1.6876873259579415,
         -0.6885874188010814,
         0.5229961816732301,
         0.9275740175588312
        ]
       },
       "y": {
        "type": "float",
        "values": [
         1.2064065314554437,
         1.9106751102178985,
         -0.3090818883695271,
         1.0733872080775648,
         -0.2754982543762996,
         -0.0924712869198914,
         -1.174042249258871,
         0.4996171407706081,
         0.8367348194939331,
         -0.386966805880934,
         1.1790260206082221,
         -0.3597647631632094,
         -0.37892852454259,
         0.07261247361063349,
         -0.07013328657284758,
         0.12932115795518376,
         -1.4582214988753213,
         -1.2468580370560525,
         0.44412399323866003,
         -0.31432459297709653,
         1.731225444248307,
         0.16907655130720298,
         -0.6709025975980395,
         2.0029556734201783,
         -0.5899974199478685,
         -0.3115350855769205,
         0.15032538207595406,
         -0.9762468327184711,
         0.3163685755037216,
         -0.45850596809802985,
         0.9441897069441954,
         -0.46125244402024285,
         0.27466124202313513,
         1.5178914822599197,
         -1.6710637464847666,
         -0.010247472886059004,
         1.0642837472312086,
         0.5182335808042747,
         0.9972359953858216,
         0.39241322161805364,
         0.5479645624448677,
         -1.4108863131026712,
         -1.0277031151987495,
         1.6039059479803068,
         0.16491199910284646,
         1.763432808300027,
         -0.22664111376751148,
         -0.3328948555597067,
         1.9905277406546709,
         1.3955365922425413,
         0.16887878479687615,
         -0.6871022175145981,
         -0.46040767019246576,
         0.38973204009030277,
         0.1860056515256426,
         -0.248109932387528,
         0.416571446734978,
         -0.9376392025274026,
         1.1921569081097658,
         -2.267479875603867,
         -0.020580996597317155,
         0.5974868257997301,
         -0.6391309935363981,
         -0.7544525423104792,
         1.665293958572661,
         -0.48099330315899597,
         -1.3231965816824531,
         -0.759663222169322,
         -0.6266189860529658,
         0.8785482629488734,
         1.3047167249685834,
         0.7264628494151762,
         -1.3659714144765491,
         -1.824191641327832,
         2.083502993510367,
         0.7837001571299125,
         0.8187478769148423,
         0.2895717596027321,
         -0.6562413668190286,
         1.506867904229562,
         -0.9686466923048584,
         1.5837953888655198,
         0.6574822623444376,
         0.055670885940739365,
         0.19004048840929533,
         -0.22912937124023736,
         0.04703562654362432,
         -0.9746198979513049,
         0.15088064699335732,
         0.25516387198782936,
         0.053859456262867755,
         1.3170133738004608,
         -0.45630709114160645,
         -1.9116044066902569,
         -1.2511137056707697,
         -0.15362162455429368,
         -0.820074572818277,
         -1.3895052615536592,
         0.4651619137253547,
         -0.4453319219258289
        ]
       }
      }
     },
     "6ed16a0317354b6a9052448206054a8e": {
      "model_module": "bqplot",
      "model_module_version": "^0.2.3",
      "model_name": "LinearScaleModel",
      "state": {
       "stabilized": false
      }
     },
     "6f6734e2354c4324a7232c1d5204419b": {
      "model_module": "@jupyter-widgets/base",
      "model_module_version": "1.0.0",
      "model_name": "LayoutModel",
      "state": {}
     },
     "6ff9eab0c9c24f5d8c963bf25f797a62": {
      "model_module": "bqplot",
      "model_module_version": "^0.2.3",
      "model_name": "ColorScaleModel",
      "state": {
       "_model_name": "ColorScaleModel",
       "_view_name": "ColorScale",
       "colors": [],
       "mid": null,
       "scale_type": "linear",
       "scheme": "RdYlGn"
      }
     },
     "706a7962efd943de89e9472911435090": {
      "model_module": "bqplot",
      "model_module_version": "^0.2.3",
      "model_name": "LinearScaleModel",
      "state": {
       "stabilized": false
      }
     },
     "739a567ca28b4c32849c4f2eaa937ff2": {
      "model_module": "bqplot",
      "model_module_version": "^0.2.3",
      "model_name": "LinearScaleModel",
      "state": {
       "allow_padding": false,
       "max": 1,
       "min": 0,
       "stabilized": false
      }
     },
     "75720d3927af4337a7f2429d8184aea9": {
      "model_module": "bqplot",
      "model_module_version": "^0.2.3",
      "model_name": "LinearScaleModel",
      "state": {
       "allow_padding": false,
       "max": 1,
       "min": 0,
       "stabilized": false
      }
     },
     "75c75d0f04b5408a94525ed51f3c2c9b": {
      "model_module": "bqplot",
      "model_module_version": "^0.2.3",
      "model_name": "ColorAxisModel",
      "state": {
       "scale": "IPY_MODEL_d71626fa98bf4626b0c44d77e93c13b3",
       "side": "bottom",
       "tick_values": {
        "type": null,
        "values": null
       }
      }
     },
     "7ead20c1817a4d7d8aa55b3c18f3f801": {
      "model_module": "@jupyter-widgets/base",
      "model_module_version": "1.0.0",
      "model_name": "LayoutModel",
      "state": {}
     },
     "824ddcb959e245298b46ed6695510834": {
      "model_module": "bqplot",
      "model_module_version": "^0.2.3",
      "model_name": "ScatterModel",
      "state": {
       "_model_module": "bqplot",
       "_model_module_version": "^0.2.3",
       "_view_count": null,
       "_view_module": "bqplot",
       "_view_module_version": "^0.2.3",
       "apply_clip": true,
       "color": {
        "type": "float",
        "values": [
         0.5210332515862182,
         -1.4282543387160842,
         -1.8017967884031771,
         0.4366657882012356,
         0.3567346681193609,
         -0.048949545311988044,
         0.22294401474164147,
         -2.000121802982559,
         0.6150997778687899,
         1.7564828007958935,
         1.6822000265582455,
         1.5359922208665027,
         -1.044123138031092,
         -0.8782299762797797,
         0.5260781103535184,
         0.21773964832358125,
         0.38044080452185103,
         1.1936845430534442,
         -1.3861502495121625,
         0.5125502899540434,
         0.0218380086077709,
         0.7116846642154395,
         -1.1509354495814945,
         0.4714843496541005,
         -0.35677132495887026,
         0.24943341473007802,
         -0.3711009848659548,
         1.2510576901227306,
         0.2849397457774326,
         -0.9691393224549688,
         -1.0592858502356788,
         0.473116679243379,
         0.1849237672824383,
         0.9399740500646682,
         1.5045410081065813,
         -0.6797318821547689,
         1.2226251803357868,
         0.6293978162652935,
         -1.2653149779648316,
         0.47530205015772575,
         1.706753631112439,
         -0.7941592427129086,
         -0.5606420572643254,
         -0.29828692296970816,
         1.1203786941714007,
         0.7385699951957502,
         0.4392160872017785,
         -0.3937249041951293,
         -0.7429685245960634,
         -1.3862393868062908,
         -2.6699343995726004,
         -0.38984827835242236,
         0.7324279916826976,
         1.341356120041213,
         0.7530025318923617,
         -0.833089135586772,
         -0.6735323739452805,
         0.632550286096689,
         -0.012517944590795521,
         -1.1035576354243049,
         -0.14115736324777428,
         0.26985204195909895,
         1.2052988640394473,
         -0.5033442127075685,
         -0.16912319534679993,
         2.00931196842635,
         0.7795125421564868,
         -1.926203389351189,
         0.9361725867851068,
         1.1550314127518155,
         1.8138065407641424,
         -0.18615422278289614,
         -1.1716309004703584,
         -1.4822684692854762,
         0.45595092539970894,
         -0.8001840821492536,
         -0.08797493019760157,
         0.18058745135991602,
         0.215647164462489,
         -0.14773351014531116,
         0.3025631771827475,
         -1.1245838571726507,
         -0.394491834585103,
         0.08315834485001726,
         -0.0983472002517608,
         -0.711750533271543,
         -1.7547662801941373,
         -0.3715461322576132,
         0.3220784347310312,
         -0.1918871742061911,
         -0.7455189115256969,
         0.32674259669598604,
         0.9508296493582246,
         -1.2713782382486183,
         -2.2466081107451594,
         1.0909918707385133,
         -0.771274112540171,
         0.20394434235877812,
         -0.9438869966611865,
         0.3506129622386002
        ]
       },
       "colors": [
        "DeepSkyBlue"
       ],
       "display_legend": false,
       "enable_hover": true,
       "hovered_style": {},
       "interactions": {
        "hover": "tooltip"
       },
       "labels": [],
       "names": {
        "type": null,
        "values": null
       },
       "opacity": {
        "type": null,
        "values": null
       },
       "preserve_domain": {},
       "rotation": {
        "type": null,
        "values": null
       },
       "scales": {
        "color": "IPY_MODEL_322f57e3257b4e78a1a23ee74b2e7e5f",
        "x": "IPY_MODEL_6ed16a0317354b6a9052448206054a8e",
        "y": "IPY_MODEL_6b2bbc5e4cec46839f55b0c516126f07"
       },
       "scales_metadata": {
        "color": {
         "dimension": "color"
        },
        "opacity": {
         "dimension": "opacity"
        },
        "size": {
         "dimension": "size"
        },
        "x": {
         "dimension": "x",
         "orientation": "horizontal"
        },
        "y": {
         "dimension": "y",
         "orientation": "vertical"
        }
       },
       "selected": [],
       "selected_style": {},
       "size": {
        "type": null,
        "values": null
       },
       "skew": {
        "type": null,
        "values": null
       },
       "tooltip": null,
       "tooltip_location": "mouse",
       "tooltip_style": {
        "opacity": 0.9
       },
       "unhovered_style": {},
       "unselected_style": {},
       "visible": true,
       "x": {
        "type": "float",
        "values": [
         0.7101256236597978,
         0.18488301783369146,
         0.926495082472727,
         2.3682763318538753,
         0.6699290918054831,
         -1.5367652441329334,
         0.35620445238562726,
         -0.7246535502386182,
         0.1578739612318888,
         1.8182226693192687,
         -0.03862607653523156,
         0.70879354107708,
         0.04759363882548188,
         0.9967017453736787,
         -0.5344360389827607,
         0.1297024347090057,
         -0.8421073261822769,
         0.4738209749281472,
         1.7175310863070037,
         0.08348092863979249,
         -1.3312502357394418,
         -0.7359091585581741,
         -0.04474650727642292,
         0.5665245876571537,
         -1.7947096990853437,
         -0.4736454276034571,
         0.4257930058519551,
         1.051174030271684,
         0.5487437401420012,
         0.9744243994675876,
         -0.398273986690233,
         -1.095035157734209,
         -0.45963283022028695,
         1.1461962554329477,
         -1.534859472927062,
         1.78817625229889,
         1.8674861727500913,
         1.6655480980911048,
         -0.2978035817545267,
         -0.004036301326947226,
         -1.2344361964884452,
         -0.020502170235396213,
         1.4805230443994875,
         1.0771478353815085,
         0.26605696558179787,
         -1.0278076328507066,
         0.7925112335990132,
         -0.5985750499458369,
         0.8391427326813465,
         2.4090218055341395,
         -0.5080490204112451,
         2.6730601988296616,
         -0.8958525914457446,
         -0.1481994990816548,
         -0.48965375396424365,
         -0.809444357980609,
         -1.5073965241701737,
         -0.2623987441616255,
         -0.604760508150302,
         0.36108401298768006,
         0.5752581602355729,
         -1.4602213690222745,
         -1.5703169779645265,
         0.39066659913075036,
         -0.5724660054329483,
         -0.5720371962097129,
         -2.3063787468567813,
         0.2851067984445632,
         -0.6331998977116541,
         0.03507301846951603,
         -0.8795336839835882,
         0.9267198843287505,
         0.5350685670537036,
         -0.4715974770061372,
         -0.5609105736185127,
         -0.20940595251433072,
         0.7924429140250636,
         0.1575093801646724,
         -0.39507850733791866,
         0.6092279307506537,
         0.11096710684488416,
         -0.7516285092293772,
         -0.010444199323156975,
         0.582596893909383,
         0.5328562291673229,
         -0.8357365694685961,
         -1.126222011407857,
         -1.0722824612149546,
         0.2708035148839944,
         1.2103397797992557,
         -2.3448260047444593,
         0.12588672390722874,
         -1.5515455379287642,
         -0.13471688469581344,
         0.34881644780767646,
         -0.4442388390813547,
         0.3650467470943468,
         0.3523751739298839,
         -0.2477070343149117,
         -0.007397370281135683
        ]
       },
       "y": {
        "type": "float",
        "values": [
         -0.30754220943287663,
         0.053947345040621465,
         0.5613438121026633,
         0.9022238482309259,
         0.08964355092085945,
         -0.19677489588690023,
         -0.16377662596132378,
         0.6202179398004297,
         -0.6779096313294819,
         -0.1517175644910914,
         1.013126619679216,
         -0.38033750624610807,
         -1.076201462293793,
         -0.22501549227880627,
         0.4634467725086978,
         -0.36900070645306327,
         0.5129895484978448,
         -0.21962179211947275,
         -1.0859728730293847,
         0.13286759545501772,
         -1.1562593784100463,
         1.4616668903012195,
         0.20289052576726846,
         -0.6506043487575568,
         2.06762801211243,
         -0.729573080333379,
         0.016025325721603017,
         -0.15339772967617152,
         -0.5179284883216942,
         0.02844594903296965,
         0.7162156018490538,
         1.218080604542139,
         0.9967279898070242,
         -1.5703774136959125,
         -0.667224226959742,
         -0.8201166925160391,
         0.29169854889904934,
         -0.9369335764493197,
         -0.3063228363283042,
         1.0734473915235243,
         0.2726768517954454,
         -0.40084148722091323,
         -0.7608859696222616,
         0.03223943336186279,
         -0.333504983537828,
         -1.5206134090452044,
         -0.5045523756667566,
         -1.3158550137319287,
         -0.6678862758463624,
         -1.303833515797959,
         0.7789934498331327,
         0.4061566602409716,
         -1.5463358299720549,
         -0.614022176747753,
         -2.7164149183774655,
         -0.22176197449316723,
         -0.7522143481425049,
         0.958489188252296,
         -0.8727555520900814,
         1.146528770437076,
         0.28198338713228194,
         -0.14167965062373497,
         0.5732028289223843,
         -0.060582358241792186,
         0.5756074458241326,
         -0.6896537988304404,
         0.5113699106411214,
         1.0709108671223881,
         -0.17902254403617807,
         -0.7259551425223391,
         0.48316366078926404,
         0.3596831714849292,
         -0.775196173484637,
         0.2486449822706809,
         2.6278606056877822,
         0.5962437200620138,
         -0.14431377980967894,
         -0.14128545123441455,
         -0.22602829493946283,
         -1.0259941125748495,
         -0.33547964676667263,
         0.8215480360893994,
         0.49512943608692883,
         0.6319878415424051,
         0.12545224103130878,
         -1.4382178575176057,
         0.024182755388924372,
         1.1173434970709775,
         -0.4466615933203741,
         0.9513839257537117,
         0.031719124040509285,
         -2.5608072997933,
         -0.8647412656077555,
         -1.7028349194776855,
         0.8250112950653508,
         0.07486424100316044,
         0.01955137971534848,
         0.47158263920906973,
         -2.1312951497440573,
         0.6173581602960723
        ]
       }
      }
     },
     "8a7a30122d00474588a1d8447374b91a": {
      "model_module": "@jupyter-widgets/controls",
      "model_module_version": "1.0.0",
      "model_name": "VBoxModel",
      "state": {
       "children": [
        "IPY_MODEL_68d1ac3d61254338b947f4411fe6a041",
        "IPY_MODEL_55afb91a199c41f6852ed26bdf02204b"
       ],
       "layout": "IPY_MODEL_6f6734e2354c4324a7232c1d5204419b"
      }
     },
     "8abe3f23263644959a6a6bf62ca741b2": {
      "model_module": "bqplot",
      "model_module_version": "^0.2.3",
      "model_name": "LinearScaleModel",
      "state": {
       "allow_padding": false,
       "max": 1,
       "min": 0,
       "stabilized": false
      }
     },
     "9396d7c38f984ed7ad686b539f37f486": {
      "model_module": "bqplot",
      "model_module_version": "^0.2.3",
      "model_name": "LinearScaleModel",
      "state": {
       "allow_padding": false,
       "max": 1,
       "min": 0,
       "stabilized": false
      }
     },
     "a0d77e33b1d446ba83a06472449b130f": {
      "model_module": "bqplot",
      "model_module_version": "^0.2.3",
      "model_name": "AxisModel",
      "state": {
       "orientation": "vertical",
       "scale": "IPY_MODEL_706a7962efd943de89e9472911435090",
       "side": "left",
       "tick_values": {
        "type": null,
        "values": null
       }
      }
     },
     "a0d87433374e4b35a99a40101f34a9cc": {
      "model_module": "bqplot",
      "model_module_version": "^0.2.3",
      "model_name": "AxisModel",
      "state": {
       "scale": "IPY_MODEL_e46eaa9f26ee4b508c7265cf001bc578",
       "side": "bottom",
       "tick_values": {
        "type": null,
        "values": null
       }
      }
     },
     "a6ce1863285b445fbdd8613fa0acdb6f": {
      "model_module": "@jupyter-widgets/base",
      "model_module_version": "1.0.0",
      "model_name": "LayoutModel",
      "state": {
       "min_width": "125px"
      }
     },
     "aa9c7d1b80cc401c89867c2989795f65": {
      "model_module": "@jupyter-widgets/base",
      "model_module_version": "1.0.0",
      "model_name": "LayoutModel",
      "state": {
       "min_width": "125px"
      }
     },
     "b7315bd680f444fd99a0492812f23348": {
      "model_module": "bqplot",
      "model_module_version": "^0.2.3",
      "model_name": "LinearScaleModel",
      "state": {
       "stabilized": false
      }
     },
     "c895f933282f49fa844ed26d1410b6f1": {
      "model_module": "bqplot",
      "model_module_version": "^0.2.3",
      "model_name": "ToolbarModel",
      "state": {
       "figure": "IPY_MODEL_38d347861a234491aff964cfabbde3d6",
       "layout": "IPY_MODEL_e623a378b5d5453f9314061ae2a94bf9"
      }
     },
     "d28a69c97a914613a5fe39c74de80b4e": {
      "model_module": "bqplot",
      "model_module_version": "^0.2.3",
      "model_name": "LinearScaleModel",
      "state": {
       "stabilized": false
      }
     },
     "d71626fa98bf4626b0c44d77e93c13b3": {
      "model_module": "bqplot",
      "model_module_version": "^0.2.3",
      "model_name": "ColorScaleModel",
      "state": {
       "_model_name": "ColorScaleModel",
       "_view_name": "ColorScale",
       "colors": [],
       "mid": null,
       "scale_type": "linear",
       "scheme": "RdYlGn"
      }
     },
     "d8ec024408d146d7a95ba246e966895b": {
      "model_module": "bqplot",
      "model_module_version": "^0.2.3",
      "model_name": "LinearScaleModel",
      "state": {
       "stabilized": false
      }
     },
     "d99eb8daed05451ca4780191c199c5a2": {
      "model_module": "bqplot",
      "model_module_version": "^0.2.3",
      "model_name": "ScatterModel",
      "state": {
       "_model_module": "bqplot",
       "_model_module_version": "^0.2.3",
       "_view_count": null,
       "_view_module": "bqplot",
       "_view_module_version": "^0.2.3",
       "apply_clip": true,
       "color": {
        "type": "float",
        "values": [
         1.783603192240869,
         -0.9340026821458831,
         -1.0221305686052524,
         0.09299696197434815,
         -0.7298282912606991,
         0.2414358381430784,
         -0.47718324629557585,
         -1.5249304899335778,
         0.4894049748701308,
         -1.4597316677337506,
         0.9344005018725231,
         0.4251273131582625,
         -2.4609635314493956,
         2.4065781844220044,
         -0.11154377664989623,
         1.245213274567353,
         1.178588393913653,
         0.03013416938847138,
         -0.2723532853201669,
         -1.7791213296126869,
         -2.0775754582094406,
         0.4055869056493205,
         0.5345051520771747,
         0.03353214987969205,
         -0.6874210417039955,
         0.2795813579368529,
         -1.2922548721370721,
         0.7811328940647781,
         0.449256942736668,
         0.47091088927752384,
         0.5725331987792844,
         0.898582764357965,
         -1.4409541802990298,
         -1.0612211620595657,
         -0.002703197086200175,
         -0.08726298452820468,
         0.35989873100512976,
         0.06402334593372175,
         0.11343152305013651,
         -1.3043042407163992,
         -0.8042819840512568,
         -1.9538645902031864,
         -0.5669021161200312,
         -1.9470671461876328,
         0.5419367383216563,
         -0.729711023612463,
         0.361841385264804,
         -0.2072913173849577,
         -0.5714112848976866,
         0.7870362459379757,
         -0.2736696481723401,
         -0.8090722955788926,
         0.4402874626293861,
         1.100595429011039,
         0.36867446159163475,
         -1.3749019819095611,
         -0.534688425764312,
         -1.083293685762256,
         0.9393015827394537,
         -0.6148992230936114,
         0.2579756243627778,
         -1.4643049884967578,
         2.357709461810751,
         -1.735809497803948,
         1.016357492446221,
         1.3696194915168698,
         -0.5486378429797831,
         -1.4876427507328103,
         -1.0611633654396169,
         0.5008263956016249,
         0.22998758152484444,
         -1.5480977564519125,
         -1.3300983797471202,
         0.9233264721513101,
         -0.16803932058402843,
         -0.3586941155489456,
         -0.7843908508450221,
         0.9209389727099269,
         -0.006985346279606554,
         -0.15523926617188893,
         0.2949339612557859,
         -0.162474306883828,
         -0.006346929084037041,
         0.6174728652803391,
         1.1512534002754966,
         -0.8917074871744249,
         -0.4757336012055536,
         0.30492001341875896,
         0.47144223829701104,
         -0.9576132511919567,
         -0.1325696654497241,
         0.5247504939399342,
         -0.9699855690486627,
         0.15743654806977161,
         0.8580467032749813,
         1.9212263898082746,
         -0.3152355344201113,
         1.3146068050360242,
         -0.6717511135346118,
         2.5535909507366927
        ]
       },
       "colors": [
        "DeepSkyBlue"
       ],
       "display_legend": false,
       "enable_hover": true,
       "hovered_style": {},
       "interactions": {
        "hover": "tooltip"
       },
       "labels": [],
       "names": {
        "type": null,
        "values": null
       },
       "opacity": {
        "type": null,
        "values": null
       },
       "preserve_domain": {},
       "rotation": {
        "type": null,
        "values": null
       },
       "scales": {
        "color": "IPY_MODEL_6ff9eab0c9c24f5d8c963bf25f797a62",
        "x": "IPY_MODEL_d8ec024408d146d7a95ba246e966895b",
        "y": "IPY_MODEL_b7315bd680f444fd99a0492812f23348"
       },
       "scales_metadata": {
        "color": {
         "dimension": "color"
        },
        "opacity": {
         "dimension": "opacity"
        },
        "size": {
         "dimension": "size"
        },
        "x": {
         "dimension": "x",
         "orientation": "horizontal"
        },
        "y": {
         "dimension": "y",
         "orientation": "vertical"
        }
       },
       "selected": [],
       "selected_style": {},
       "size": {
        "type": null,
        "values": null
       },
       "skew": {
        "type": null,
        "values": null
       },
       "tooltip": null,
       "tooltip_location": "mouse",
       "tooltip_style": {
        "opacity": 0.9
       },
       "unhovered_style": {},
       "unselected_style": {},
       "visible": true,
       "x": {
        "type": "float",
        "values": [
         -1.0767874074468067,
         -0.33861355215733874,
         1.0549681222635974,
         0.25359592977484857,
         -0.4157868280552927,
         0.7950573113179132,
         -0.12805443681246392,
         -0.773015218554261,
         0.5450927956907942,
         0.01454049083185856,
         1.0726656200202254,
         1.9664612335588094,
         -0.46662785300284,
         0.19301296474329968,
         0.7454386578805439,
         1.7646655898120727,
         0.5043903146356232,
         0.17417726247082546,
         0.7071505170680277,
         0.053700136180686135,
         -0.7351777905798088,
         -2.871937300858206,
         -1.7043165635042723,
         -0.7884460482889344,
         1.1204878950665256,
         -0.06603058088948498,
         0.7490520540284255,
         -0.5558188694583092,
         -0.06470219768700035,
         0.2139299601977298,
         1.2327467394070766,
         0.21405666846067642,
         0.7735470211118917,
         0.31482266132596276,
         -0.1777024202413882,
         -0.9487493339085024,
         -0.9188992726142273,
         -0.5373138533394888,
         -0.1553197777776366,
         1.568406374781493,
         0.9468613641112461,
         1.4221068153185992,
         1.5770465689468278,
         0.7296830913408888,
         0.5234281654208697,
         -1.186985238243422,
         1.2523150447136,
         -0.779996923204896,
         -0.0341152697024023,
         -0.5461337514620104,
         -0.7111742705489063,
         0.06285933631110023,
         -1.146692465665771,
         -0.8306273045942255,
         0.9419674569162637,
         0.04903112157301934,
         0.56543524886724,
         -0.8827896858754172,
         -2.451324672196482,
         0.3554775191649678,
         -0.5242949540652163,
         1.1924178594424601,
         -0.11981001238987847,
         0.34425840774628147,
         -0.7877131807818546,
         -0.6312477074124665,
         0.31569080591495624,
         -1.6959293159991744,
         0.7379072118762668,
         1.1310107639689366,
         -1.3638472720365198,
         -1.5628636999182703,
         0.04116080962210713,
         -1.5933547511741428,
         -0.04535673486842515,
         0.15092494465485823,
         -1.443444408553089,
         -0.9043004074082854,
         -0.051723854231897425,
         -2.03089579611004,
         1.0711372517023738,
         -1.5351561545001227,
         0.6160845776642909,
         1.354275405821684,
         -0.7059206298904068,
         -0.22222637796208058,
         -0.9073884025954688,
         -1.9937150338402223,
         0.9148500400720481,
         0.29536727592001727,
         -0.45481091466387374,
         -0.17884851600385565,
         -0.5793497910122983,
         2.4356610819481093,
         0.19770180225834247,
         -0.9700493908290558,
         0.626823497628556,
         2.469510478829364,
         -0.3724333528525015,
         0.7875164938417146
        ]
       },
       "y": {
        "type": "float",
        "values": [
         -0.28791541954528593,
         -0.016930833256879815,
         -1.4378628196540892,
         -1.5709334595814795,
         1.1563526901210972,
         1.0144942050413253,
         1.723618386999456,
         -0.3451472282696909,
         1.0758988009392945,
         -0.9106234112078383,
         -0.2679576679501124,
         -0.7842542456513875,
         -0.0025398537095279246,
         -0.2829846741395931,
         -0.7416251936511995,
         0.5817043466144401,
         0.3155977754768976,
         0.4001337639199819,
         0.36866704114973703,
         -0.8863670754309932,
         0.6464997542817873,
         -2.8853709555234905,
         -1.7421053461819571,
         -0.03871711174755616,
         0.14917123351661132,
         1.3445568887563633,
         -0.17460774102973278,
         -0.5570633108666919,
         0.7764257181009314,
         -0.6929490295784172,
         -1.5569848470533039,
         -0.06252007743362714,
         0.5471902061173753,
         0.7372923425237392,
         1.0511235013419549,
         -0.6732136094808298,
         0.9804846189734984,
         0.0251638934644639,
         0.8472191469414417,
         -0.5655144704920575,
         0.1424214467811881,
         0.05885918457528504,
         -0.29214747358532256,
         0.7239087888234321,
         -0.30159018002557547,
         -0.8885876049718128,
         0.6119570852034992,
         0.08515214671226443,
         0.057662194227210896,
         0.8110608666825555,
         1.7891651230306356,
         -0.7369011119539041,
         -0.20982560826127633,
         -0.6892359997017635,
         -0.0449532989574408,
         -1.6114271429306646,
         0.6059014826919092,
         -1.131393418161252,
         0.5953576979833303,
         1.6010188560841168,
         -1.0730291751711185,
         1.3826970675668784,
         0.9148902634707676,
         1.2774638435219434,
         0.1719867712671638,
         0.8981064435237213,
         2.7305342935977905,
         -0.7110346708353614,
         -0.4429589088241283,
         0.1881637193911234,
         -0.2291560472543757,
         -0.26219039717150044,
         0.9874959905482159,
         -0.21947679828099487,
         -0.2654656493307268,
         -0.18494609775341248,
         -0.7079617235298042,
         0.718048613230952,
         0.8405582499370527,
         0.751365282738515,
         -0.8864743289508077,
         0.2530083779389741,
         0.18294528513605995,
         -0.39028826462413935,
         -1.4300147155208307,
         -2.222157102395499,
         0.3724861582335794,
         0.8703781680396946,
         1.0927206193342174,
         -0.5204126976101044,
         -1.1272933145492927,
         -1.4460995440117332,
         0.656563878681741,
         0.39268821571761653,
         -1.5266951072848698,
         0.49102951604009915,
         -0.7592512866357841,
         0.6713502198570767,
         0.12060184370536352,
         0.4914826309235631
        ]
       }
      }
     },
     "e46eaa9f26ee4b508c7265cf001bc578": {
      "model_module": "bqplot",
      "model_module_version": "^0.2.3",
      "model_name": "LinearScaleModel",
      "state": {
       "stabilized": false
      }
     },
     "e623a378b5d5453f9314061ae2a94bf9": {
      "model_module": "@jupyter-widgets/base",
      "model_module_version": "1.0.0",
      "model_name": "LayoutModel",
      "state": {}
     },
     "ed9df53212b6404a9133c2a6f6831fd0": {
      "model_module": "bqplot",
      "model_module_version": "^0.2.3",
      "model_name": "ScatterModel",
      "state": {
       "_model_module": "bqplot",
       "_model_module_version": "^0.2.3",
       "_view_count": null,
       "_view_module": "bqplot",
       "_view_module_version": "^0.2.3",
       "apply_clip": true,
       "color": {
        "type": "float",
        "values": [
         -0.4944302681500007,
         0.22512226868570936,
         -0.10792711307075516,
         -1.2813317811258507,
         -0.744409343484721,
         2.30620136383911,
         -0.675016382323931,
         0.648705681176387,
         -0.4124276814856994,
         -1.3305607390793033,
         -2.0012121356384176,
         0.6210510199833207,
         0.17580657565371888,
         -0.06423891624239869,
         1.7928098837976993,
         -1.1458473027398324,
         0.2504974471946654,
         0.943124834238198,
         0.4192271912764075,
         -1.6066721096503591,
         -0.48683129943558734,
         -0.35403068337259197,
         0.36367487250027025,
         0.3008866008183661,
         1.0278818381425185,
         -0.7372598424758903,
         -0.07289582398839771,
         -0.6530199964924625,
         -0.30042036962044616,
         0.9200167951259876,
         1.2733662297537223,
         0.1327461784650902,
         -1.939660052786559,
         0.8443301180553184,
         0.09389939590897067,
         1.2478236006205883,
         1.220788332368701,
         0.39765839410919296,
         0.3980395631810939,
         -0.09515517465033854,
         -0.17426384430639563,
         -2.0517827249404714,
         -1.6197795135607436,
         0.4210790915148158,
         0.23050213004890824,
         0.24660937797307106,
         -2.0239280082067848,
         -0.16103491840704207,
         -2.1220501255347215,
         -0.7514444369605685,
         -0.6311967209383362,
         0.03357837059486198,
         -0.8449911588213294,
         -0.8168499190201247,
         0.5844690901724627,
         -0.6926734098730609,
         -1.2191732736117364,
         -1.4600068515152747,
         0.3023283033530818,
         -0.6795013726980095,
         0.4628634888964096,
         -0.863153443221242,
         -0.0022052348690879135,
         -0.04948256934767832,
         1.4315555365299824,
         1.42969976755642,
         -1.3540622100018431,
         1.8612247829433843,
         -0.9850340017116563,
         1.2668129584140926,
         0.8401308451966576,
         -1.0720131420656962,
         -0.7605773378452615,
         0.8826280192411526,
         -1.0259739915289645,
         -0.19445266823200535,
         -0.8518087461522622,
         0.2604838178390648,
         -0.22886934445548296,
         2.6737471007452136,
         -0.3026439920251356,
         -1.0911257322403403,
         -1.4608372847278446,
         -0.648920030636954,
         -1.7393457184602221,
         0.3486858041489186,
         0.648574208090235,
         0.5311255656886282,
         0.6033779934318492,
         -0.47670091639634726,
         -1.4825821887926385,
         0.41454275854752803,
         -0.8828531546069879,
         0.369857647974372,
         -0.5916013520549868,
         -0.09859124061541184,
         0.36483709674000814,
         -0.8441755281034364,
         -0.18680351353190197,
         -1.850489620313514
        ]
       },
       "colors": [
        "DeepSkyBlue"
       ],
       "display_legend": false,
       "enable_hover": true,
       "hovered_style": {},
       "interactions": {
        "hover": "tooltip"
       },
       "labels": [],
       "names": {
        "type": null,
        "values": null
       },
       "opacity": {
        "type": null,
        "values": null
       },
       "preserve_domain": {},
       "rotation": {
        "type": null,
        "values": null
       },
       "scales": {
        "color": "IPY_MODEL_d71626fa98bf4626b0c44d77e93c13b3",
        "x": "IPY_MODEL_d28a69c97a914613a5fe39c74de80b4e",
        "y": "IPY_MODEL_706a7962efd943de89e9472911435090"
       },
       "scales_metadata": {
        "color": {
         "dimension": "color"
        },
        "opacity": {
         "dimension": "opacity"
        },
        "size": {
         "dimension": "size"
        },
        "x": {
         "dimension": "x",
         "orientation": "horizontal"
        },
        "y": {
         "dimension": "y",
         "orientation": "vertical"
        }
       },
       "selected": [],
       "selected_style": {},
       "size": {
        "type": null,
        "values": null
       },
       "skew": {
        "type": null,
        "values": null
       },
       "tooltip": null,
       "tooltip_location": "mouse",
       "tooltip_style": {
        "opacity": 0.9
       },
       "unhovered_style": {},
       "unselected_style": {},
       "visible": true,
       "x": {
        "type": "float",
        "values": [
         -0.07981292060365663,
         -0.8123850173323108,
         0.007471273403991734,
         -0.3915035182250388,
         0.605144797983674,
         -0.7940049855177117,
         0.005973920439251537,
         0.17341016679796753,
         0.25822954922574015,
         0.2661890352989834,
         1.089870131405401,
         -1.5340593158809188,
         0.5037861393014325,
         -0.8727349241255967,
         -0.6161016470062552,
         1.0473942518024801,
         0.8135970997472588,
         0.5860204889946934,
         -2.0789301507920537,
         0.5203771982067342,
         -0.16689073837391583,
         0.5129729371956716,
         -1.09360233750554,
         -0.061732048213467686,
         -1.7227722164344357,
         0.6941522070234536,
         -0.187626566840285,
         0.29862000083220913,
         0.2772463270570387,
         0.3909516637022206,
         0.8443814307964005,
         -0.16545514685170712,
         1.3224235894659908,
         -0.575434005793177,
         -0.6746863406857748,
         -0.7374852761332736,
         0.31869686676347597,
         1.3212542514591417,
         0.22672539648470325,
         1.278714140726985,
         1.6596376236364399,
         0.21903275208661735,
         1.274776129276691,
         -0.7426508226607456,
         -2.40093543838992,
         -0.009902664220986065,
         -0.9701168118403071,
         -0.41387763896996665,
         0.43531437426730596,
         -0.9822338453699367,
         0.2898669259400522,
         -0.9728874507793427,
         1.3471783562916388,
         -1.2455791334971102,
         -0.7364734376911096,
         -1.7666700537248627,
         -0.04987654648508913,
         3.258756164134508,
         -0.3130581698227048,
         0.30721889694443916,
         0.06206978386392455,
         -0.35064276879142214,
         -0.47834337832557,
         -0.19381424109206863,
         -0.4366739391208293,
         -0.38251425342696915,
         1.7413235286177726,
         -0.8937525702833271,
         0.20264389192448895,
         -0.5244865773863786,
         -0.4106902352781147,
         -2.1652113782795106,
         1.0462807430307588,
         -0.44231454894092775,
         -0.6662342152361781,
         -0.23840575269309103,
         -0.7672968362904142,
         -0.9369558750928088,
         0.6957850195282668,
         0.9443329053205708,
         0.8627495821973986,
         -0.6393188667460348,
         0.8411860604133791,
         -0.5124469686071454,
         -0.6404309015323832,
         0.17181664053438608,
         0.21452476394737946,
         -0.11476251028424851,
         -0.35841322951438315,
         0.5666687450143806,
         -0.2413128665446644,
         -0.910384838398121,
         -1.9494434198807746,
         -1.0093685970460258,
         0.6884913984425352,
         -0.09783046092757985,
         -1.1275657198238673,
         -1.3530453755432226,
         -0.09234745994476609,
         -0.28278695623573835
        ]
       },
       "y": {
        "type": "float",
        "values": [
         0.6316734092842448,
         -0.07258746075339997,
         -1.1867970863423754,
         0.4072621776969911,
         -1.6412731961342006,
         -1.1654467642245956,
         -0.24656830367180665,
         0.2932734819394346,
         -0.2948872855805279,
         1.776435145458607,
         0.5912875318904599,
         -1.8929680101161752,
         0.4039130602770409,
         -0.2836789557840229,
         2.1455304375719897,
         -1.6147072455196665,
         -0.8502407093204254,
         2.5417413619240667,
         -0.4964806828136593,
         -0.7271137346391927,
         0.40077874205175673,
         0.575646259229445,
         0.7187655254040917,
         0.5887123815590345,
         0.5301404506851196,
         -0.21238901425290962,
         -1.0793556700680516,
         -0.6437929096999011,
         0.21186542752638704,
         -0.818869882370722,
         -2.51265587131556,
         0.9999962673361117,
         -1.862808249583431,
         -1.0414969954213231,
         0.5140634707580864,
         1.6221107939147437,
         0.6102758031145252,
         -0.8567408730400834,
         -1.2354789445420638,
         -0.11247783052594215,
         -0.6148245487338068,
         -0.30978554845384143,
         0.6983869828806897,
         -0.544005755316082,
         0.4263574271390953,
         -0.0936970841835854,
         -0.7251328988854886,
         1.0682037432401101,
         -0.09829322435365528,
         -0.2269847636079438,
         -0.30360569592727676,
         0.9657631163056298,
         1.6647511576469847,
         0.03410407495459769,
         0.6506741451953255,
         -0.1882472476771806,
         0.2734554455869789,
         -0.9421409354920169,
         0.7153269461346038,
         1.7568171570062499,
         0.9544845581093614,
         0.27707379739664817,
         0.9524531603561671,
         -1.6652075854640958,
         -1.2259361481440685,
         0.2686225599294488,
         0.4090102718584616,
         1.1325340138782698,
         1.3305783261090698,
         0.46839898691532816,
         0.08646971017959457,
         -1.1186199700514785,
         0.9534873131132955,
         1.023415127419262,
         -1.3213646886679216,
         0.5301737343312286,
         0.4001769579391529,
         0.9241322478738662,
         -1.1877808786519426,
         -1.338715788612969,
         1.0663014611850028,
         -0.7726778485494525,
         1.6349022493088214,
         0.2564344049657013,
         -0.9008057592778227,
         0.052058324363801846,
         0.8726846185770214,
         1.9432362798256317,
         -0.43859787131016076,
         -1.070336264835304,
         -1.9433753769220654,
         -0.8630357571944572,
         -1.8460834080814255,
         -0.21773403437504926,
         -0.7115449159342937,
         -0.7959457881730875,
         -0.027661613175454545,
         -1.619488375758269,
         -1.5818859616155578,
         1.3052304572296876
        ]
       }
      }
     },
     "f15a5cca31594f4495e797053787804e": {
      "model_module": "bqplot",
      "model_module_version": "^0.2.3",
      "model_name": "LinearScaleModel",
      "state": {
       "allow_padding": false,
       "max": 1,
       "min": 0,
       "stabilized": false
      }
     },
     "f2befb9b433b47419dee626063ce6aa4": {
      "model_module": "bqplot",
      "model_module_version": "^0.2.3",
      "model_name": "AxisModel",
      "state": {
       "orientation": "vertical",
       "scale": "IPY_MODEL_6b2bbc5e4cec46839f55b0c516126f07",
       "side": "left",
       "tick_values": {
        "type": null,
        "values": null
       }
      }
     },
     "f4c3bcb3fa724609af7355aca5c9b239": {
      "model_module": "@jupyter-widgets/base",
      "model_module_version": "1.0.0",
      "model_name": "LayoutModel",
      "state": {}
     },
     "ff860b25a624457e85f9f1f8d117328a": {
      "model_module": "bqplot",
      "model_module_version": "^0.2.3",
      "model_name": "AxisModel",
      "state": {
       "scale": "IPY_MODEL_d8ec024408d146d7a95ba246e966895b",
       "side": "bottom",
       "tick_values": {
        "type": null,
        "values": null
       }
      }
     }
    },
    "version_major": 2,
    "version_minor": 0
   }
  }
 },
 "nbformat": 4,
 "nbformat_minor": 2
}
